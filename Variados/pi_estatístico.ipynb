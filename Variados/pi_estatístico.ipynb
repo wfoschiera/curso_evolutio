{
 "cells": [
  {
   "cell_type": "markdown",
   "metadata": {},
   "source": [
    "# Exerício para cálcular o valor de PI de forma estatística\n",
    "\n",
    "Visão geral do exercício: Dado um quadrado de lado 1 e um círculo de raio 0.5, circunscrito nesse quadrado. Considerando uma quantidade n de pontos marcados aleatoriamente dentre da área do quadrado. Se obtivermos a quantidade total de pontos e dividirmos pela quantidade de pontos contidos dentro do círculo, podemos calcular o valor de PI na razão 1:4. Veremos a seguir como calcular:"
   ]
  },
  {
   "cell_type": "code",
   "execution_count": 130,
   "metadata": {},
   "outputs": [],
   "source": [
    "import seaborn as sns\n",
    "from matplotlib import pyplot  as plt\n",
    "from math import sqrt\n",
    "import random as rd"
   ]
  },
  {
   "cell_type": "code",
   "execution_count": 142,
   "metadata": {},
   "outputs": [],
   "source": [
    "class Point:\n",
    "    def __init__(self, x, y):\n",
    "        self.x = x\n",
    "        self.y = y\n",
    "    \n",
    "    def __str__(self):\n",
    "        return f'({self.x}, {self.y})'\n",
    "    \n",
    "    def mod(self):\n",
    "        return sqrt(self.x ** 2 + self.y ** 2)\n",
    "    \n",
    "    def inside_circle(self, raio):\n",
    "        return self.mod() < raio\n"
   ]
  },
  {
   "cell_type": "code",
   "execution_count": 144,
   "metadata": {},
   "outputs": [
    {
     "data": {
      "text/plain": [
       "False"
      ]
     },
     "execution_count": 144,
     "metadata": {},
     "output_type": "execute_result"
    }
   ],
   "source": [
    "p1 = Point(1,1)\n",
    "p1.inside_circle(0.5)"
   ]
  },
  {
   "cell_type": "code",
   "execution_count": 153,
   "metadata": {},
   "outputs": [],
   "source": [
    "def n_random_points(n):\n",
    "    \"\"\"\n",
    "    A função random() seleciona pontos aleatórios entre 0 e 1.\n",
    "    Subtraindo 0.5 de cada ponto, corrigimos o viés e trazemos esses pontos\n",
    "    para a referência na origem do gráfico (0,0)\n",
    "    \"\"\"\n",
    "    return [Point(rd.uniform(-0.5, 0.5), rd.uniform(-0.5, 0.5)) for p in range(n)]"
   ]
  },
  {
   "cell_type": "code",
   "execution_count": 154,
   "metadata": {},
   "outputs": [
    {
     "name": "stdout",
     "output_type": "stream",
     "text": [
      "78602\n",
      "3.14408\n"
     ]
    }
   ],
   "source": [
    "# Quantidade de pontos:\n",
    "n = 100000\n",
    "pontos = n_random_points(n)\n",
    "\n",
    "pontos_dentro_circulo = 0\n",
    "for ponto in pontos:\n",
    "    if ponto.inside_circle(0.5):\n",
    "        pontos_dentro_circulo += 1\n",
    "print(pontos_dentro_circulo)\n",
    "pi_estimado = (pontos_dentro_circulo/n) * 4\n",
    "print(pi_estimado)"
   ]
  },
  {
   "cell_type": "code",
   "execution_count": 119,
   "metadata": {},
   "outputs": [
    {
     "data": {
      "text/plain": [
       "0.8378251027676493"
      ]
     },
     "execution_count": 119,
     "metadata": {},
     "output_type": "execute_result"
    }
   ],
   "source": [
    "rd.uniform(0,1)"
   ]
  },
  {
   "cell_type": "code",
   "execution_count": null,
   "metadata": {},
   "outputs": [],
   "source": []
  }
 ],
 "metadata": {
  "kernelspec": {
   "display_name": "Python 3",
   "language": "python",
   "name": "python3"
  },
  "language_info": {
   "codemirror_mode": {
    "name": "ipython",
    "version": 3
   },
   "file_extension": ".py",
   "mimetype": "text/x-python",
   "name": "python",
   "nbconvert_exporter": "python",
   "pygments_lexer": "ipython3",
   "version": "3.8.10"
  }
 },
 "nbformat": 4,
 "nbformat_minor": 4
}
